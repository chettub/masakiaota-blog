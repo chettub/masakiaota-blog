{
 "cells": [
  {
   "cell_type": "markdown",
   "metadata": {},
   "source": [
    "# Basic Visualization by plotly\n",
    "\n",
    "Here is Tutorial https://plot.ly/python/ipython-notebook-tutorial/\n",
    "\n",
    "This is a cheat sheet https://images.plot.ly/plotly-documentation/images/python_cheat_sheet.pdf\n",
    "\n",
    "In this time, I try to use plotly offline (prepare for handling secret data)"
   ]
  },
  {
   "cell_type": "code",
   "execution_count": null,
   "metadata": {},
   "outputs": [],
   "source": [
    "##Visualization\n",
    "import plotly.offline as offline\n",
    "import plotly.graph_objs as go\n",
    "offline.init_notebook_mode()\n",
    "\n",
    "##import\n",
    "import pandas as pd\n",
    "import numpy as np"
   ]
  },
  {
   "cell_type": "code",
   "execution_count": null,
   "metadata": {},
   "outputs": [],
   "source": [
    "##acquire data\n",
    "df = pd.read_csv('./creditcard.csv')\n",
    "df0 = df[df.Class == 0]\n",
    "df1 = df[df.Class == 1]\n",
    "df1.head()"
   ]
  },
  {
   "cell_type": "markdown",
   "metadata": {},
   "source": [
    "## histgram\n",
    "\n",
    "First, let's confirm correlation \"Amount\" and \"Class\" as a example.\n",
    "I want to know the difference of \"Amount\" distribution between Class==0 and 1.\n",
    "Use histgram. (Distplots is also great. But,very heavy)"
   ]
  },
  {
   "cell_type": "code",
   "execution_count": null,
   "metadata": {
    "scrolled": false
   },
   "outputs": [],
   "source": [
    "##make trace\n",
    "trace0 = go.Histogram(\n",
    "    x = df0.Amount,\n",
    "    opacity = 0.7,\n",
    "    name = 'class0',\n",
    "    xbins = dict(\n",
    "        start = 0,\n",
    "        end = max(df.Amount),\n",
    "        size = 50\n",
    "    )\n",
    ")\n",
    "trace1 = go.Histogram(\n",
    "    x = df1.Amount,\n",
    "    opacity = 0.7,\n",
    "    name = 'class1',\n",
    "    xbins = dict(\n",
    "        start = 0,\n",
    "        end = max(df.Amount),\n",
    "        size = 50\n",
    "    )\n",
    ")\n",
    "data = [trace0, trace1]\n",
    "\n",
    "##define layout\n",
    "layout = go.Layout(\n",
    "    #barmode='overlay',\n",
    "    yaxis=dict(\n",
    "        type='log',\n",
    "        autorange=True,\n",
    "        title = 'frequency'\n",
    "    ),\n",
    "    xaxis=dict(\n",
    "        autorange=True,\n",
    "        title = 'Amount'\n",
    "    ),\n",
    "    bargap=0.1,\n",
    "    bargroupgap=0,\n",
    ")\n",
    "\n",
    "fig = go.Figure(data=data, layout=layout)\n",
    "\n",
    "offline.iplot(fig)"
   ]
  },
  {
   "cell_type": "markdown",
   "metadata": {},
   "source": [
    "↑ y-axis is log scale.\n",
    "\n",
    "Considering inbalance, there is little difference in Amount distribution.\n",
    "In Amount > 2150, there are no class == 1 data."
   ]
  },
  {
   "cell_type": "markdown",
   "metadata": {},
   "source": [
    "Anather example"
   ]
  },
  {
   "cell_type": "code",
   "execution_count": null,
   "metadata": {},
   "outputs": [],
   "source": [
    "##make trace\n",
    "trace0 = go.Histogram(\n",
    "    x = df0.V2,\n",
    "    opacity = 0.7,\n",
    "    name = 'class0',\n",
    "    xbins = dict(\n",
    "        start = min(df.V2),\n",
    "        end = max(df.V2),\n",
    "        size = 5\n",
    "    )\n",
    ")\n",
    "trace1 = go.Histogram(\n",
    "    x = df1.V2,\n",
    "    opacity = 0.7,\n",
    "    name = 'class1',\n",
    "    xbins = dict(\n",
    "        start = min(df.V2),\n",
    "        end = max(df.V2),\n",
    "        size = 5\n",
    "    )\n",
    ")\n",
    "data = [trace0, trace1]\n",
    "\n",
    "##define layout\n",
    "layout = go.Layout(\n",
    "    #barmode='overlay',\n",
    "    yaxis=dict(\n",
    "        type='log',\n",
    "        autorange=True,\n",
    "        title = 'frequency'\n",
    "    ),\n",
    "    xaxis=dict(\n",
    "        autorange=True,\n",
    "        title = 'V2'\n",
    "    ),\n",
    "    bargap=0.1,\n",
    "    bargroupgap=0.05,\n",
    ")\n",
    "\n",
    "fig = go.Figure(data=data, layout=layout)\n",
    "\n",
    "offline.iplot(fig)"
   ]
  },
  {
   "cell_type": "markdown",
   "metadata": {},
   "source": [
    "## 3D-PCA"
   ]
  },
  {
   "cell_type": "markdown",
   "metadata": {},
   "source": [
    "PCA is a dimensionality reduction method.\n",
    "Using Scatter3d(a plotly function), we can plot the data points in three dimensions.\n",
    "Fortunately, Vn (n=1,2...,27) are features PCAed from original secret data.\n",
    "This time, I can use them.\n",
    "\n",
    "But Scatter3d function is heavy in case of plotting too many.\n",
    "Very many plots cause memory shortage. \n",
    "Then, let's try undersampling in Class==0 prior to visualization."
   ]
  },
  {
   "cell_type": "code",
   "execution_count": null,
   "metadata": {},
   "outputs": [],
   "source": [
    "print('Class 0:',len(df0),', Class 1:',len(df1))"
   ]
  },
  {
   "cell_type": "code",
   "execution_count": null,
   "metadata": {},
   "outputs": [],
   "source": [
    "##random under sampling\n",
    "df0u = df0.sample(frac = 0.05)\n",
    "print('Class 0:',len(df0u),', Class 1:',len(df1))"
   ]
  },
  {
   "cell_type": "code",
   "execution_count": null,
   "metadata": {},
   "outputs": [],
   "source": [
    "## make trace\n",
    "trace0 = go.Scatter3d(\n",
    "    x = df0u.V1,\n",
    "    y = df0u.V2,\n",
    "    z = df0u.V3,\n",
    "    name = 'class0',\n",
    "    mode = 'markers',\n",
    "    opacity = 0.4,\n",
    "    marker = dict(\n",
    "        size = 2\n",
    "    )\n",
    ")\n",
    "trace1 = go.Scatter3d(\n",
    "    x = df1.V1,\n",
    "    y = df1.V2,\n",
    "    z = df1.V3,\n",
    "    name = 'class1',\n",
    "    mode = 'markers',\n",
    "    marker = dict(\n",
    "        size = 3\n",
    "    )\n",
    ")\n",
    "## concatnate traces\n",
    "data = [trace0, trace1]\n",
    "\n",
    "## define layout\n",
    "layout = go.Layout(\n",
    "    title='3D-PCA',\n",
    "    width=600,\n",
    "    height=500,\n",
    "    scene = dict(\n",
    "        xaxis = dict(\n",
    "            nticks=4, range = [min(df.V1),max(df.V1)], title='V1'),\n",
    "        yaxis = dict(\n",
    "            nticks=4, range = [min(df.V2),max(df.V2)], title='V2'),\n",
    "        zaxis = dict(\n",
    "            nticks=4, range = [min(df.V3),max(df.V3)], title='V3')\n",
    "    ),\n",
    "    showlegend=True)\n",
    "\n",
    "fig = dict(data=data, layout=layout)\n",
    "offline.iplot(fig)"
   ]
  },
  {
   "cell_type": "code",
   "execution_count": null,
   "metadata": {
    "collapsed": true
   },
   "outputs": [],
   "source": []
  }
 ],
 "metadata": {
  "kernelspec": {
   "display_name": "Python 3",
   "language": "python",
   "name": "python3"
  },
  "language_info": {
   "codemirror_mode": {
    "name": "ipython",
    "version": 3
   },
   "file_extension": ".py",
   "mimetype": "text/x-python",
   "name": "python",
   "nbconvert_exporter": "python",
   "pygments_lexer": "ipython3",
   "version": "3.6.2"
  },
  "varInspector": {
   "cols": {
    "lenName": 16,
    "lenType": 16,
    "lenVar": 40
   },
   "kernels_config": {
    "python": {
     "delete_cmd_postfix": "",
     "delete_cmd_prefix": "del ",
     "library": "var_list.py",
     "varRefreshCmd": "print(var_dic_list())"
    },
    "r": {
     "delete_cmd_postfix": ") ",
     "delete_cmd_prefix": "rm(",
     "library": "var_list.r",
     "varRefreshCmd": "cat(var_dic_list()) "
    }
   },
   "types_to_exclude": [
    "module",
    "function",
    "builtin_function_or_method",
    "instance",
    "_Feature"
   ],
   "window_display": false
  }
 },
 "nbformat": 4,
 "nbformat_minor": 2
}
