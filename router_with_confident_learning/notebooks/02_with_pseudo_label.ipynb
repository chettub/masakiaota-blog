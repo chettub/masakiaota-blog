{
 "cells": [
  {
   "cell_type": "markdown",
   "metadata": {},
   "source": [
    "### confident learningのサンプルを疑似ラベリングしてから訓練する"
   ]
  },
  {
   "cell_type": "code",
   "execution_count": 1,
   "metadata": {},
   "outputs": [],
   "source": [
    "from multiprocessing import cpu_count\n",
    "import numpy as np\n",
    "\n",
    "from sklearn.model_selection import train_test_split, cross_validate\n",
    "from sklearn.linear_model import LogisticRegression\n",
    "from sklearn.datasets import rcv1\n",
    "from sklearn.metrics import classification_report\n",
    "\n",
    "from cleanlab.noise_generation import generate_noise_matrix, generate_noise_matrix_from_trace, generate_noisy_labels\n",
    "from cleanlab.classification import LearningWithNoisyLabels\n",
    "\n",
    "# visualize\n",
    "import matplotlib.pyplot as plt\n",
    "import seaborn as sns\n",
    "sns.set()\n",
    "%config InlineBackend.figure_formats = {'png', 'retina'}\n",
    "\n",
    "seed=42"
   ]
  },
  {
   "cell_type": "markdown",
   "metadata": {},
   "source": [
    "### dataの読み込み と ノイズ付与"
   ]
  },
  {
   "cell_type": "code",
   "execution_count": 2,
   "metadata": {},
   "outputs": [],
   "source": [
    "data=rcv1.fetch_rcv1()"
   ]
  },
  {
   "cell_type": "code",
   "execution_count": 3,
   "metadata": {},
   "outputs": [
    {
     "name": "stdout",
     "output_type": "stream",
     "text": [
      "target names ['CCAT' 'ECAT' 'GCAT' 'MCAT']\n",
      "samples 685071 category value counts [299612  54695 163135 167629]\n"
     ]
    }
   ],
   "source": [
    "# データセットがマルチクラス判別なので、シングルクラスにまとめる\n",
    "mask_col=np.array(list(map(lambda x:x.endswith('CAT'), data.target_names))) #カテゴリーに分けるのが良さそう\n",
    "target_names=data.target_names[mask_col]\n",
    "print('target names', target_names) #C→corporate inductrial, E→economics, G→goverment, M→わからない...Market?\n",
    "mask_row=data.target[:,mask_col].toarray().sum(axis=1) == 1 #マルチクラスが割り当てられているサンプルは削除\n",
    "\n",
    "y=data.target[mask_row][:,mask_col]\n",
    "X=data.data[mask_row]\n",
    "py=y.toarray().sum(axis=0).reshape(-1) #given labelの数\n",
    "print('samples',X.shape[0],'category value counts',py)\n",
    "y=np.array(y.argmax(axis=1)).reshape(-1) #one-hot to num"
   ]
  },
  {
   "cell_type": "code",
   "execution_count": 4,
   "metadata": {},
   "outputs": [],
   "source": [
    "X_train, X_test, y_train, y_test = train_test_split(X, y, test_size=0.2, \n",
    "                                                    random_state=seed, shuffle=True)"
   ]
  },
  {
   "cell_type": "code",
   "execution_count": 10,
   "metadata": {},
   "outputs": [
    {
     "name": "stdout",
     "output_type": "stream",
     "text": [
      "p(given=i|true=j) =\n",
      "[[0.68936167 0.         0.         0.        ]\n",
      " [0.2387445  0.85410683 0.21184431 0.05112328]\n",
      " [0.         0.14589317 0.78815569 0.28050091]\n",
      " [0.07189383 0.         0.         0.66837581]]\n",
      "y_train_copputed contains 152985 errors. error rate is 27 %\n"
     ]
    }
   ],
   "source": [
    "# p(given=i | true=j) の行列を生成\n",
    "noise_matrix=generate_noise_matrix_from_trace(4,3,\n",
    "                                             min_trace_prob=0.6,\n",
    "                                             frac_zero_noise_rates=0.5,\n",
    "                                             py=py,\n",
    "                                             seed=seed,\n",
    "                                            )\n",
    "print('p(given=i|true=j) =')\n",
    "print(noise_matrix)\n",
    "np.random.seed(seed)\n",
    "y_train_corrupted=generate_noisy_labels(y_train,noise_matrix)\n",
    "y_train_is_error=y_train_corrupted!=y_train\n",
    "n=y_train_is_error.sum()\n",
    "print('y_train_copputed contains', n ,'errors. error rate is', int(n/len(y_train) * 100),'%')"
   ]
  },
  {
   "cell_type": "markdown",
   "metadata": {},
   "source": [
    "### corrupted labelとされたものに疑似ラベリング"
   ]
  },
  {
   "cell_type": "code",
   "execution_count": 11,
   "metadata": {},
   "outputs": [
    {
     "name": "stderr",
     "output_type": "stream",
     "text": [
      "/home/lab/masaki/.pyenv/versions/anaconda3-4.3.1/lib/python3.6/site-packages/sklearn/linear_model/logistic.py:433: FutureWarning: Default solver will be changed to 'lbfgs' in 0.22. Specify a solver to silence this warning.\n",
      "  FutureWarning)\n"
     ]
    },
    {
     "name": "stdout",
     "output_type": "stream",
     "text": [
      "[LibLinear][LibLinear][LibLinear][LibLinear][LibLinear][LibLinear]test accuracy when train without corrupted label: 0.9611137466700727\n",
      "CPU times: user 1h 58min 21s, sys: 17.8 s, total: 1h 58min 39s\n",
      "Wall time: 16min 39s\n"
     ]
    }
   ],
   "source": [
    "%%time\n",
    "# corrupted labelの推定\n",
    "model=LogisticRegression(multi_class='auto',\n",
    "                       verbose=2,\n",
    "                       random_state=seed)\n",
    "\n",
    "clf=LearningWithNoisyLabels(clf=model,\n",
    "                            seed=seed,\n",
    "                            n_jobs=cpu_count())\n",
    "                            \n",
    "clf.fit(X_train,y_train_corrupted)\n",
    "print('test accuracy when train without corrupted label:',clf.score(X_test, y_test)) #悪くないけどノイズの影響受けてる"
   ]
  },
  {
   "cell_type": "code",
   "execution_count": 12,
   "metadata": {},
   "outputs": [],
   "source": [
    "# Pseudo-labeling\n",
    "X_with_noise = X_train[clf.noise_mask]\n",
    "y_train_pseudo=y_train_corrupted.copy()\n",
    "y_train_pseudo[clf.noise_mask]=clf.predict(X_with_noise)"
   ]
  },
  {
   "cell_type": "markdown",
   "metadata": {},
   "source": [
    "### 疑似ラベリングでの性能"
   ]
  },
  {
   "cell_type": "code",
   "execution_count": 13,
   "metadata": {},
   "outputs": [
    {
     "name": "stdout",
     "output_type": "stream",
     "text": [
      "[LibLinear]test accuracy when train with pseudo label: 0.9628288873481006\n"
     ]
    }
   ],
   "source": [
    "model.fit(X_train,y_train_pseudo)\n",
    "print('test accuracy when train with pseudo label:', clf.score(X_test, y_test))"
   ]
  },
  {
   "cell_type": "markdown",
   "metadata": {},
   "source": [
    "すこーしだけ向上といったところか（cvも検定もしてないので本当に良いかなんてわからないが）"
   ]
  },
  {
   "cell_type": "code",
   "execution_count": null,
   "metadata": {},
   "outputs": [],
   "source": []
  }
 ],
 "metadata": {
  "kernelspec": {
   "display_name": "Python 3",
   "language": "python",
   "name": "python3"
  },
  "language_info": {
   "codemirror_mode": {
    "name": "ipython",
    "version": 3
   },
   "file_extension": ".py",
   "mimetype": "text/x-python",
   "name": "python",
   "nbconvert_exporter": "python",
   "pygments_lexer": "ipython3",
   "version": "3.6.8"
  }
 },
 "nbformat": 4,
 "nbformat_minor": 2
}
