{
 "cells": [
  {
   "cell_type": "code",
   "execution_count": null,
   "metadata": {},
   "outputs": [],
   "source": [
    "import numpy as np\n",
    "import pandas as pd\n",
    "\n",
    "# visualization\n",
    "import matplotlib.pyplot as plt\n",
    "%matplotlib inline\n",
    "import seaborn as sns\n",
    "sns.set()\n",
    "\n",
    "from tqdm import trange\n",
    "\n",
    "from sklearn.ensemble import RandomForestClassifier, ExtraTreesClassifier\n",
    "\n",
    "from data_gen import data_pattern1, data_pattern2"
   ]
  },
  {
   "cell_type": "code",
   "execution_count": null,
   "metadata": {},
   "outputs": [],
   "source": [
    "def show_result(datagenerator,Classifier,n_iter=1000, n_est=100, bagging=True):\n",
    "    result=[]\n",
    "    for i in trange(n_iter):\n",
    "        data,target=datagenerator(random_state=i)\n",
    "        clf=Classifier(n_estimators=n_est,random_state=i+2019*i,bootstrap=bagging)\n",
    "        clf.fit(data,target)\n",
    "        result.append(clf.feature_importances_)\n",
    "    result=pd.DataFrame(result)\n",
    "    sns.violinplot(data=result)\n",
    "    plt.show()"
   ]
  },
  {
   "cell_type": "markdown",
   "metadata": {},
   "source": [
    "### まずは分散を変えた正規分布について"
   ]
  },
  {
   "cell_type": "code",
   "execution_count": null,
   "metadata": {},
   "outputs": [],
   "source": [
    "show_result(data_pattern1,RandomForestClassifier,n_iter=200,n_est=50)"
   ]
  },
  {
   "cell_type": "markdown",
   "metadata": {},
   "source": [
    "バイアスなし！"
   ]
  },
  {
   "cell_type": "markdown",
   "metadata": {},
   "source": [
    "### 次に、解像度を下げたデータに対して"
   ]
  },
  {
   "cell_type": "code",
   "execution_count": null,
   "metadata": {},
   "outputs": [],
   "source": [
    "show_result(data_pattern2,RandomForestClassifier,n_iter=200,n_est=50)"
   ]
  },
  {
   "cell_type": "code",
   "execution_count": null,
   "metadata": {},
   "outputs": [],
   "source": [
    "show_result(data_pattern2,RandomForestClassifier,n_iter=200,n_est=50,bagging=False)"
   ]
  },
  {
   "cell_type": "markdown",
   "metadata": {},
   "source": [
    "バイアスあり！！！\n",
    "でも論文の主張と違ってbaggingの有無で明確な差は出ず"
   ]
  },
  {
   "cell_type": "code",
   "execution_count": null,
   "metadata": {},
   "outputs": [],
   "source": []
  },
  {
   "cell_type": "markdown",
   "metadata": {},
   "source": [
    "### extratreeではどう？"
   ]
  },
  {
   "cell_type": "code",
   "execution_count": null,
   "metadata": {},
   "outputs": [],
   "source": [
    "show_result(data_pattern2,ExtraTreesClassifier,n_iter=200,n_est=50)"
   ]
  },
  {
   "cell_type": "code",
   "execution_count": null,
   "metadata": {},
   "outputs": [],
   "source": [
    "show_result(data_pattern2,ExtraTreesClassifier,n_iter=200,n_est=50)"
   ]
  },
  {
   "cell_type": "code",
   "execution_count": null,
   "metadata": {},
   "outputs": [],
   "source": [
    "show_result(data_pattern2,ExtraTreesClassifier,n_iter=200,n_est=200,bagging=False)"
   ]
  },
  {
   "cell_type": "markdown",
   "metadata": {},
   "source": [
    "extratreeでもバイアスあり！\n",
    "(各特徴量に対してsplit pointはランダムで決めるけど、結局一番不純度の改善が良かった特徴量が選ばれるためバイアスが出るのではないか？)\n",
    "\n",
    "これに関してもbaggingの有無は関係なかった。"
   ]
  },
  {
   "cell_type": "markdown",
   "metadata": {},
   "source": [
    "### "
   ]
  }
 ],
 "metadata": {
  "kernelspec": {
   "display_name": "Python 3",
   "language": "python",
   "name": "python3"
  },
  "language_info": {
   "codemirror_mode": {
    "name": "ipython",
    "version": 3
   },
   "file_extension": ".py",
   "mimetype": "text/x-python",
   "name": "python",
   "nbconvert_exporter": "python",
   "pygments_lexer": "ipython3",
   "version": "3.6.7"
  }
 },
 "nbformat": 4,
 "nbformat_minor": 2
}
