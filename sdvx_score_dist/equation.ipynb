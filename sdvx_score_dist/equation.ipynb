{
 "cells": [
  {
   "cell_type": "markdown",
   "metadata": {},
   "source": [
    "あるレベル帯の曲の難易度は全て同じだと仮定する。新曲が追加されたときに、自分がその曲をプレイするとどれぐらいの得点が取れそうか知りたい。というのも、音楽ゲームは100円で3曲プレイできるが、得点によっては次の曲に進めない制約があるからである。100円でより多くの曲をプレイするためには、リスクを取りたくない。得点を確率分布に落とし込むことで、このリスクを定量評価できる。"
   ]
  },
  {
   "cell_type": "markdown",
   "metadata": {},
   "source": [
    "### 仮定\n",
    "- 同じレベル帯の曲は同じ難易度である。(同じレベルなら曲$_i$のスコアの分布$X_i$は全て同じ分布)\n",
    "- プレイヤーのスキルは上昇しないものとする。\n",
    "\n",
    "以下の同じレベル帯で考えることにする。\n",
    "\n",
    "- プレイごとに得られるスコアは独立同分布である。"
   ]
  },
  {
   "cell_type": "markdown",
   "metadata": {},
   "source": [
    "#### 知りたい\n",
    "曲を一回プレイしたときに獲得するスコアXの分布$f^{(X)}(x)$\n",
    "\n",
    "#### 知っている\n",
    "曲$_i$を$n_i$回プレイしたときの最大のスコア$m_i$"
   ]
  },
  {
   "cell_type": "markdown",
   "metadata": {},
   "source": [
    "### ノーテーション\n",
    "ここで議論する曲の背景に存在する難易度は同じと仮定する。\n",
    "\n",
    "曲が1〜Nまであるとする。\n",
    "\n",
    "$n_i$...曲$_i$をプレイした回数\n",
    "\n",
    "曲を一回プレイしてスコアを得ることを1回の試行とする。\n",
    "\n",
    "$X_{(i,j)}$...曲$_i$をプレイした中でj回目に出たスコア。\n",
    "\n",
    "過去の全ての試行を確率変数として表すと以下のようになる。\n",
    "\n",
    "| 曲  | 過去の全ての試行 |\n",
    "| :-------------: | :-------------: |\n",
    "| 1  |  $X_{(1,1)}$,$X_{(1,2)}$,...,$X_{(1,n_{1})}$ |\n",
    "| 2  | $X_{(2,1)}$,$X_{(2,2)}$,...,$X_{(2,n_{2})}$  |\n",
    "| ...  | ...  |\n",
    "| N  | $X_{(N,1)}$,$X_{(N,2)}$,...,$X_{(N,n_{N})}$  |\n",
    "\n",
    "これらは全て独立同分布に従うと仮定する。またその分布に従う確率変数を$X$と代表して書くことにする。\n",
    " \n",
    "$X$...ある曲を一回プレイしたときに得られるスコアの確率変数。\n",
    "\n",
    "$f^{(X)}(x)$...推定したい$X$の従う確率分布。\n",
    "\n",
    "今手元にあるデータは\n",
    "\n",
    "| 曲  | ベストスコア | プレイ回数 |\n",
    "| :-------------: | :-------------: | :-----------: |\n",
    "| 1  |  max($X_{(1,1)}$,$X_{(1,2)}$,...,$X_{(1,n_{1})}$) | $n_1$ |\n",
    "| 2  | max($X_{(2,1)}$,$X_{(2,2)}$,...,$X_{(2,n_{2})}$)  | $n_2$ |\n",
    "| ...  | ...  | ... |\n",
    "| N  | max($X_{(N,1)}$,$X_{(N,2)}$,...,$X_{(N,n_{N})}$)  | $n_N$ |\n",
    "\n",
    "\n",
    "ベストスコアは確率変数の最大値なのでこれも確率変数である。\n",
    "$$M_{n_i}=max(X_{(i,1)},X_{(i,2)},...,X_{(i,n_{i})})$$\n",
    "と定義すると、表は以下のようにスッキリとした見た目になる。\n",
    "\n",
    "| 曲  | ベストスコア | プレイ回数 |\n",
    "| :-------------: | :-------------: | :-----------: |\n",
    "| 1  |$M_{n_i}$| $n_1$ |\n",
    "| 2  |$M_{n_2}$| $n_2$ |\n",
    "| ...  | ...  | ... |\n",
    "| N  |$M_{n_N}$| $n_N$ |\n",
    "\n",
    "\n",
    "$M_n$...n回試行したときの最大値の確率変数。\n",
    "\n",
    "$f^{(M_n)}(m)$...$M_n$の従う確率密度関数。\n",
    "\n",
    "もう一度、目的を確認しておこう。ベストスコアとプレイ回数のデータから、曲を一回プレイしたときに得られる得点$X$の確率分布を求めたいというのが目的である。"
   ]
  },
  {
   "cell_type": "markdown",
   "metadata": {},
   "source": [
    "### 式\n",
    "$f^{(X)}(x)$を$f^{(M_n)}(m)$から推定したい。ここで$f^{(X)}(x)$はパラメーター$\\boldsymbol\\theta$によって表現できるものとする。\n",
    "そのため$f^{(X)}(x ; \\boldsymbol\\theta)$と書くことにする。$f^{(X)}(x ; \\boldsymbol\\theta)$を求めるとはこのパラメーター$\\boldsymbol\\theta$を求めることである。\n",
    "$\\boldsymbol\\theta$を求めるために以下の手続きを取る。\n",
    "\n",
    "\n",
    "1. $f^{(X)}(x; \\boldsymbol\\theta)$を使って,最大値の分布$f^{(M_n)}(m ; \\boldsymbol\\theta)$を構築する。(ここで示した$\\boldsymbol\\theta$は$f^{(X)}(x ; \\boldsymbol\\theta)$のパラメーターに共通)\n",
    "2. $f^{(M_n)}(m ; \\boldsymbol\\theta)$の負の対数尤度関数を構築する。\n",
    "3. 2を損失関数とみなし、最小となるパラメーター$\\boldsymbol\\theta$を探す。ここでは$X$に分布を仮定して具体的な計算式にまで落とし込む。\n",
    "\n",
    "\n",
    "これらについて一つ一つ式変形をしていこう。\n",
    "\n"
   ]
  },
  {
   "cell_type": "markdown",
   "metadata": {},
   "source": [
    "#### 1について\n",
    "確率密度関数$f(\\cdot)$に対して累積密度関数を$F(\\cdot)$と書くことにする。$P(\\cdot)$を$\\cdot$に記載された条件を満たす確率と定義する。このとき、最大値の分布を考えてみる。\n",
    "最大値の分布は以下の式から議論をスタートしよう。\n",
    "\n",
    "$$P(M_n < m)  = \\left(P(X < m)\\right)^n $$\n",
    "\n",
    "これは、｢最大値の確率変数$M$が$m$より小さい確率は、全ての$X$が$m$より小さい確率と一致する｣という内容を記述する式である。これを累積分布関数に書き換えれば、\n",
    "\n",
    "$$ F^{(M_n)}(m) = \\left(F^{(X)}(m)\\right)^n $$\n",
    "\n",
    "となる。\n",
    "\n",
    "したがって、$f^{(M_n)}(m)$は以下のように表せる。\n",
    "\n",
    "$$ f^{(M_n)}(m) = \\frac{d}{dm}F^{(M_n)}(m) $$\n",
    "\n",
    "$$ f^{(M_n)}(m) = \\frac{d}{dm}\\left(F^{(X)}(m)\\right)^n $$\n",
    "\n",
    "$$ f^{(M_n)}(m) = n \\left(F^{(X)}(m)\\right)^{n-1}\\frac{d}{dm}\\left(F^{(X)}(m)\\right) $$\n",
    "\n",
    "$$ f^{(M_n)}(m) = n \\left(F^{(X)}(m)\\right)^{n-1}f^{(X)}(m)  $$\n",
    "\n",
    "式の形を少し整理して、パラメーター$\\boldsymbol\\theta$を自明に書くと以下になる。\n",
    "\n",
    "$$ f^{(M_n)}(m ; \\boldsymbol\\theta) = n f^{(X)}(m;\\boldsymbol\\theta) \\left(F^{(X)}(m;\\boldsymbol\\theta)\\right)^{n-1} $$"
   ]
  },
  {
   "cell_type": "markdown",
   "metadata": {},
   "source": [
    "#### 2について\n",
    "N個の曲について、プレイした回数とベストスコアはわかっている。これについて負の対数尤度関数を構築することを考える。\n",
    "\n",
    "$$\\text{負の対数尤度} = -\\ln\\left(\\prod_i^N f^{(M_{n_i})}(m_i ; \\boldsymbol\\theta)\\right)$$\n",
    "\n",
    "となる。1の結果を代入し形を整えると以下のようになる。\n",
    "\n",
    "$$\\text{負の対数尤度} = -\\sum_i^N \\ln\\left( f^{(M_{n_i})}(m_i ; \\boldsymbol\\theta)\\right)$$\n",
    "\n",
    "$$\\text{負の対数尤度} = -\\sum_i^N \\ln\\left( n_i f^{(X)}(m_i;\\boldsymbol\\theta) \\left(F^{(X)}(m_i;\\boldsymbol\\theta)\\right)^{n_i-1} \\right)$$\n",
    "\n",
    "$$\\text{負の対数尤度} = -\\sum_i^N \\left[ \\ln n_i + \\ln f^{(X)}(m_i;\\boldsymbol\\theta) + (n_i-1)\\ln \\left(F^{(X)}(m_i;\\boldsymbol\\theta)\\right) \\right]$$\n",
    "\n",
    "\n"
   ]
  },
  {
   "cell_type": "markdown",
   "metadata": {},
   "source": [
    "#### 3について\n",
    "2で求めた負の対数尤度をもとに、$\\boldsymbol\\theta$についての損失関数を定義すると、\n",
    "$$loss(\\boldsymbol\\theta)=-\\sum_i^N \\left[ \\ln f^{(X)}(m_i;\\boldsymbol\\theta) + (n_i-1)\\ln \\left(F^{(X)}(m_i;\\boldsymbol\\theta)\\right) \\right]$$\n",
    "となる。\n",
    "\n",
    "これは見ての通り、$X$についての分布$f^{(X)}(m_i;\\boldsymbol\\theta)$を仮定しないと損失が計算できない形式になっている。\n",
    "\n",
    "そこで、今回は$f^{(X)}(m_i;\\boldsymbol\\theta)$にベータ分布を仮定した。これは、5年間プレイしてきての経験と、実際にランダムに選曲してスコアを実測した結果から来る仮定である。(実測のヒストグラムは付録に示す)\n"
   ]
  },
  {
   "cell_type": "markdown",
   "metadata": {},
   "source": []
  },
  {
   "cell_type": "markdown",
   "metadata": {},
   "source": []
  },
  {
   "cell_type": "markdown",
   "metadata": {},
   "source": []
  },
  {
   "cell_type": "markdown",
   "metadata": {},
   "source": []
  },
  {
   "cell_type": "markdown",
   "metadata": {},
   "source": [
    "(実装しながら形式を変えた方がいいのか、形式を固めてから実装したほうがいいのか)\n",
    "\n",
    "(怖いのは形式を固めてから実装しようとしたときにpytorchにその関数がなかったとき)(特に正規化された不完全ベータ関数とか)\n"
   ]
  },
  {
   "cell_type": "markdown",
   "metadata": {},
   "source": [
    "\n",
    "N個の曲について、プレイした回数とベストスコアはわかっている。これについて負の対数尤度関数を構築することを考える。\n",
    "\n",
    "$$\\text{負の対数尤度} = -\\ln(\\prod_i^N f^{(M_n)}(m))$$\n",
    "となる。\n",
    "\n",
    "$f^{(M_n)}(m)$"
   ]
  },
  {
   "cell_type": "markdown",
   "metadata": {},
   "source": [
    "流れをどうしようか\n",
    "\n",
    "\n",
    "最大値の分布からもとの分布を復元したい\n",
    "\n",
    "もとの分布を使って最大値の分布を表現できる。"
   ]
  },
  {
   "cell_type": "markdown",
   "metadata": {},
   "source": []
  },
  {
   "cell_type": "code",
   "execution_count": null,
   "metadata": {},
   "outputs": [],
   "source": [
    "kh"
   ]
  }
 ],
 "metadata": {
  "kernelspec": {
   "display_name": "Python 3",
   "language": "python",
   "name": "python3"
  },
  "language_info": {
   "codemirror_mode": {
    "name": "ipython",
    "version": 3
   },
   "file_extension": ".py",
   "mimetype": "text/x-python",
   "name": "python",
   "nbconvert_exporter": "python",
   "pygments_lexer": "ipython3",
   "version": "3.6.7"
  }
 },
 "nbformat": 4,
 "nbformat_minor": 2
}
