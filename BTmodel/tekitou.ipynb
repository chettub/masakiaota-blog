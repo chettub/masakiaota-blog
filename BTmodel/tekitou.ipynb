{
 "cells": [
  {
   "cell_type": "code",
   "execution_count": 1,
   "metadata": {},
   "outputs": [],
   "source": [
    "import numpy as np"
   ]
  },
  {
   "cell_type": "code",
   "execution_count": 2,
   "metadata": {},
   "outputs": [],
   "source": [
    "competition_table=np.array([\n",
    "    [  0,203,239,213],\n",
    "    [ 53,  0,127,131],\n",
    "    [ 28,108,  0,116],\n",
    "    [ 37, 95,120,  0]\n",
    "])"
   ]
  },
  {
   "cell_type": "code",
   "execution_count": 3,
   "metadata": {},
   "outputs": [
    {
     "data": {
      "text/plain": [
       "array([[  0, 203, 239, 213],\n",
       "       [ 53,   0, 127, 131],\n",
       "       [ 28, 108,   0, 116],\n",
       "       [ 37,  95, 120,   0]])"
      ]
     },
     "execution_count": 3,
     "metadata": {},
     "output_type": "execute_result"
    }
   ],
   "source": [
    "competition_table"
   ]
  },
  {
   "cell_type": "code",
   "execution_count": 4,
   "metadata": {},
   "outputs": [
    {
     "data": {
      "text/plain": [
       "array([[  0, 256, 267, 250],\n",
       "       [256,   0, 235, 226],\n",
       "       [267, 235,   0, 236],\n",
       "       [250, 226, 236,   0]])"
      ]
     },
     "execution_count": 4,
     "metadata": {},
     "output_type": "execute_result"
    }
   ],
   "source": [
    "competition_table.T+competition_table"
   ]
  },
  {
   "cell_type": "code",
   "execution_count": 5,
   "metadata": {},
   "outputs": [
    {
     "data": {
      "text/plain": [
       "array([[2, 3, 4, 5],\n",
       "       [3, 4, 5, 6],\n",
       "       [4, 5, 6, 7],\n",
       "       [5, 6, 7, 8]])"
      ]
     },
     "execution_count": 5,
     "metadata": {},
     "output_type": "execute_result"
    }
   ],
   "source": [
    "theta=np.array([1,2,3,4])\n",
    "theta.reshape(1,-1)+ theta.reshape(-1,1)"
   ]
  },
  {
   "cell_type": "code",
   "execution_count": 6,
   "metadata": {},
   "outputs": [],
   "source": [
    "def ret_bt_parames(n_iter,competition_table):\n",
    "    assert competition_table.shape[0] == competition_table.shape[1]\n",
    "    n_team=competition_table.shape[0]\n",
    "    \n",
    "    theta=np.ones(n_team) / n_team #this is the bt model's parameters\n",
    "\n",
    "    n_battle_in_competition_table=competition_table+competition_table.T\n",
    "    n_wins=competition_table.sum(axis=1)\n",
    "    \n",
    "    for iloop in range(n_iter):\n",
    "        acc=(n_battle_in_competition_table/(theta.reshape(1,-1)+ theta.reshape(-1,1))).sum(axis=1)\n",
    "        t=n_wins/acc\n",
    "        theta = t/t.sum()\n",
    "        \n",
    "    return theta"
   ]
  },
  {
   "cell_type": "code",
   "execution_count": 7,
   "metadata": {},
   "outputs": [
    {
     "data": {
      "text/plain": [
       "array([0.6481719 , 0.14189358, 0.10338365, 0.10655086])"
      ]
     },
     "execution_count": 7,
     "metadata": {},
     "output_type": "execute_result"
    }
   ],
   "source": [
    "ret_bt_parames(100,competition_table)"
   ]
  },
  {
   "cell_type": "code",
   "execution_count": null,
   "metadata": {},
   "outputs": [],
   "source": []
  }
 ],
 "metadata": {
  "kernelspec": {
   "display_name": "Python 3",
   "language": "python",
   "name": "python3"
  },
  "language_info": {
   "codemirror_mode": {
    "name": "ipython",
    "version": 3
   },
   "file_extension": ".py",
   "mimetype": "text/x-python",
   "name": "python",
   "nbconvert_exporter": "python",
   "pygments_lexer": "ipython3",
   "version": "3.6.7"
  }
 },
 "nbformat": 4,
 "nbformat_minor": 2
}
