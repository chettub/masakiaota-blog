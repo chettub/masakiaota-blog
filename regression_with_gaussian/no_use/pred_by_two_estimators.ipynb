{
 "cells": [
  {
   "cell_type": "markdown",
   "metadata": {},
   "source": [
    "### アイデア\n",
    "次の二乗誤差を予測することである種の分布を得ようという試み"
   ]
  },
  {
   "cell_type": "code",
   "execution_count": null,
   "metadata": {},
   "outputs": [],
   "source": [
    "import os\n",
    "import pandas as pd\n",
    "import numpy as np\n",
    "import matplotlib.pyplot as plt\n",
    "%matplotlib inline\n",
    "from datetime import datetime"
   ]
  },
  {
   "cell_type": "markdown",
   "metadata": {},
   "source": [
    "### データの読み込み"
   ]
  },
  {
   "cell_type": "code",
   "execution_count": null,
   "metadata": {},
   "outputs": [],
   "source": [
    "def load_data():\n",
    "    \"\"\"\n",
    "    return X_train, X_test, y_train, y_test\n",
    "    \"\"\"\n",
    "    print(\"loading the data...\")\n",
    "    DATA_DIR=\"./data/\"\n",
    "    X_train = np.load(os.path.join(DATA_DIR, \"X_train.npy\"))\n",
    "    print(\"X train\",X_train.shape)\n",
    "    X_test = np.load(os.path.join(DATA_DIR, \"X_test.npy\"))\n",
    "    print(\"X test\",X_test.shape)\n",
    "    y_train = np.load(os.path.join(DATA_DIR, \"y_train.npy\"))\n",
    "    print(\"y train\",y_train.shape)\n",
    "    y_test = np.load(os.path.join(DATA_DIR, \"y_test.npy\"))\n",
    "    print(\"y test\",y_test.shape)\n",
    "    \n",
    "    # shapeをglobal変数に\n",
    "    global NUM_timesteps, NUM_input_dim, NUM_output_dim\n",
    "    _, NUM_timesteps, NUM_input_dim = X_train.shape\n",
    "    _, NUM_output_dim = y_train.shape\n",
    "    \n",
    "    \n",
    "    return X_train, X_test, y_train, y_test"
   ]
  },
  {
   "cell_type": "code",
   "execution_count": null,
   "metadata": {},
   "outputs": [],
   "source": [
    "X_train, X_test, y_train, y_test = load_data()"
   ]
  },
  {
   "cell_type": "markdown",
   "metadata": {},
   "source": [
    "### モデルの作成\n",
    "まずは平均値を学習するモデルを作成"
   ]
  },
  {
   "cell_type": "code",
   "execution_count": null,
   "metadata": {},
   "outputs": [],
   "source": [
    "from keras.layers import Dense, RepeatVector, Input, Lambda\n",
    "from keras.layers import GRU\n",
    "# from keras.layers import CuDNNGRU as GRU #GPU用\n",
    "from keras.callbacks import TensorBoard, EarlyStopping, ModelCheckpoint\n",
    "from keras.optimizers import adam\n",
    "from keras import backend as K\n",
    "from keras.models import Model"
   ]
  },
  {
   "cell_type": "code",
   "execution_count": null,
   "metadata": {},
   "outputs": [],
   "source": [
    "def ret_model(est=\"mu\"):\n",
    "    \"\"\"\n",
    "    GRU\n",
    "    FC\n",
    "    FC\n",
    "    mu\n",
    "    \"\"\"\n",
    "    \n",
    "    \n",
    "    # hyper parameter\n",
    "    LATENT = 20\n",
    "    FC=10\n",
    "    \n",
    "    # ネットワークの定義\n",
    "    inputs = Input(shape=(NUM_timesteps, NUM_input_dim))\n",
    "    # (, NUM_timesteps, NUM_input_dim)\n",
    "    gru=GRU(LATENT)(inputs)\n",
    "    # (, LATENT)\n",
    "    fc=Dense(FC,activation=\"relu\")(gru)\n",
    "    # (, FC)\n",
    "    if est is not \"mu\":\n",
    "        output=Dense(NUM_output_dim,activation = \"sigmoid\")(fc)\n",
    "    else:\n",
    "        output=Dense(NUM_output_dim)(fc)\n",
    "    \n",
    "    model = Model(inputs,output)\n",
    "    \n",
    "    model.summary()\n",
    "    \n",
    "    return model       "
   ]
  },
  {
   "cell_type": "code",
   "execution_count": null,
   "metadata": {},
   "outputs": [],
   "source": [
    "mu_predictor = ret_model()\n",
    "mu_predictor.compile(optimizer=adam(lr=0.001),loss=\"mean_squared_error\")"
   ]
  },
  {
   "cell_type": "markdown",
   "metadata": {},
   "source": [
    "### 訓練"
   ]
  },
  {
   "cell_type": "code",
   "execution_count": null,
   "metadata": {},
   "outputs": [],
   "source": [
    "logdir=\"./\"+str(datetime.now().strftime('%s'))+\"mu/\"\n",
    "mu_predictor.fit(X_train, y_train,\n",
    "         epochs=20,\n",
    "         batch_size=128,\n",
    "         shuffle=True,\n",
    "         validation_split=0.1,\n",
    "         callbacks=[TensorBoard(log_dir=logdir), \n",
    "                   EarlyStopping(patience=2),\n",
    "                   ModelCheckpoint(filepath = logdir+'model_epoch.{epoch:02d}-los{val_loss:.4f}.h5', monitor='val_loss', verbose=1, save_best_only=True, mode='auto')])"
   ]
  },
  {
   "cell_type": "markdown",
   "metadata": {},
   "source": [
    "### 誤差を取る"
   ]
  },
  {
   "cell_type": "code",
   "execution_count": null,
   "metadata": {},
   "outputs": [],
   "source": [
    "temp=mu_predictor.predict(X_train)\n",
    "err_var=np.square(temp-y_train)\n",
    "err_var.shape"
   ]
  },
  {
   "cell_type": "code",
   "execution_count": null,
   "metadata": {},
   "outputs": [],
   "source": [
    "plt.plot(err_var[:192])"
   ]
  },
  {
   "cell_type": "markdown",
   "metadata": {},
   "source": [
    "### この系列を学習させる\n",
    "学習データから二乗誤差の遷移を学習する"
   ]
  },
  {
   "cell_type": "code",
   "execution_count": null,
   "metadata": {},
   "outputs": [],
   "source": [
    "var_predictor=ret_model(est=\"var\")\n",
    "var_predictor.compile(optimizer=adam(lr=0.001),loss=\"mean_squared_error\")"
   ]
  },
  {
   "cell_type": "code",
   "execution_count": null,
   "metadata": {},
   "outputs": [],
   "source": [
    "logdir=\"./\"+str(datetime.now().strftime('%s'))+\"var/\"\n",
    "var_predictor.fit(X_train, err_var,\n",
    "         epochs=20,\n",
    "         batch_size=128,\n",
    "         shuffle=True,\n",
    "         validation_split=0.1,\n",
    "         callbacks=[TensorBoard(log_dir=logdir), \n",
    "                   EarlyStopping(patience=2),\n",
    "                   ModelCheckpoint(filepath = logdir+'model_epoch.{epoch:02d}-los{val_loss:.4f}.h5', monitor='val_loss', verbose=1, save_best_only=True, mode='auto')])"
   ]
  },
  {
   "cell_type": "markdown",
   "metadata": {},
   "source": [
    "### 結果の可視化"
   ]
  },
  {
   "cell_type": "code",
   "execution_count": null,
   "metadata": {},
   "outputs": [],
   "source": [
    "mu = mu_predictor.predict(X_test)\n",
    "sigma = np.abs(var_predictor.predict(X_test)) #ここではまだσ^2\n",
    "sigma = np.sqrt(sigma)"
   ]
  },
  {
   "cell_type": "code",
   "execution_count": null,
   "metadata": {},
   "outputs": [],
   "source": [
    "upper = mu+sigma\n",
    "lower = mu-sigma\n",
    "upper.shape, lower.shape"
   ]
  },
  {
   "cell_type": "code",
   "execution_count": null,
   "metadata": {},
   "outputs": [],
   "source": [
    "plt.figure(figsize=(8,6))\n",
    "plt.plot(mu[:192])\n",
    "#plt.plot(upper[:192,0])\n",
    "plt.fill_between(range(192),upper[:192,0],lower[:192,0],color=\"green\",alpha=0.2)\n",
    "plt.plot(y_test[:192])"
   ]
  },
  {
   "cell_type": "markdown",
   "metadata": {},
   "source": [
    "### 訓練済みモデルを使った一連の推論"
   ]
  },
  {
   "cell_type": "code",
   "execution_count": null,
   "metadata": {},
   "outputs": [],
   "source": [
    "from keras.models import load_model\n",
    "\n",
    "mu_path=\"./1539513731mu/model_epoch.08-los0.0025.h5\"\n",
    "var_path=\"./1539514907var/model_epoch.02-los0.0000.h5\"\n"
   ]
  },
  {
   "cell_type": "code",
   "execution_count": null,
   "metadata": {},
   "outputs": [],
   "source": [
    "mu_predictor = load_model(mu_path)\n",
    "var_predictor = load_model(var_path)"
   ]
  },
  {
   "cell_type": "code",
   "execution_count": null,
   "metadata": {},
   "outputs": [],
   "source": [
    "mu = mu_predictor.predict(X_test)\n",
    "sigma = np.abs(var_predictor.predict(X_test)) #ここではまだσ^2\n",
    "sigma = np.sqrt(sigma)\n",
    "\n",
    "upper = mu+2*sigma\n",
    "lower = mu-2*sigma\n",
    "upper.shape, lower.shape"
   ]
  },
  {
   "cell_type": "code",
   "execution_count": null,
   "metadata": {},
   "outputs": [],
   "source": [
    "def show_interval(start,width=192):\n",
    "    plt.figure(figsize=(8,6))\n",
    "    plt.plot(mu[start:start+width], color=\"g\", alpha=0.3)\n",
    "    #plt.plot(upper[:192,0])\n",
    "    plt.fill_between(range(width),upper[start:start+width,0],lower[start:start+width,0],color=\"green\",alpha=0.2)\n",
    "    plt.plot(y_test[start:start+width])\n",
    "    plt.show()\n",
    "def show_sigma(start,width=192):\n",
    "    plt.figure(figsize=(8,6))\n",
    "    plt.plot(sigma[start:start+width],color=\"g\")\n",
    "#     plt.plot(0.06*y_test[start:start+width]+0.06)\n",
    "    plt.show()"
   ]
  },
  {
   "cell_type": "code",
   "execution_count": null,
   "metadata": {},
   "outputs": [],
   "source": [
    "for i in range(0,len(y_test),192):\n",
    "    show_interval(i)"
   ]
  },
  {
   "cell_type": "code",
   "execution_count": null,
   "metadata": {},
   "outputs": [],
   "source": [
    "show_sigma(0,width=96*2)"
   ]
  },
  {
   "cell_type": "code",
   "execution_count": null,
   "metadata": {},
   "outputs": [],
   "source": []
  }
 ],
 "metadata": {
  "kernelspec": {
   "display_name": "Python 3",
   "language": "python",
   "name": "python3"
  },
  "language_info": {
   "codemirror_mode": {
    "name": "ipython",
    "version": 3
   },
   "file_extension": ".py",
   "mimetype": "text/x-python",
   "name": "python",
   "nbconvert_exporter": "python",
   "pygments_lexer": "ipython3",
   "version": "3.6.2"
  }
 },
 "nbformat": 4,
 "nbformat_minor": 2
}
