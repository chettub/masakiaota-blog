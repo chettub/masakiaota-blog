{
 "cells": [
  {
   "cell_type": "markdown",
   "metadata": {},
   "source": [
    "reuterのデータセットでclean labelと noisy labelでどれぐらい判別性能に差が出るのかを検証する(上限と下限づくりということ)\n",
    "\n",
    "なぜreuter(RCV1-v2)?→ラベルが正しいので"
   ]
  },
  {
   "cell_type": "code",
   "execution_count": null,
   "metadata": {},
   "outputs": [],
   "source": [
    "from multiprocessing import cpu_count\n",
    "import numpy as np\n",
    "\n",
    "from sklearn.model_selection import train_test_split, cross_validate\n",
    "from sklearn.linear_model import LogisticRegression\n",
    "from sklearn.datasets import rcv1\n",
    "\n",
    "from cleanlab.noise_generation import generate_noise_matrix, generate_noise_matrix_from_trace, generate_noisy_labels\n",
    "from cleanlab.classification import LearningWithNoisyLabels\n",
    "\n",
    "# visualize\n",
    "import matplotlib.pyplot as plt\n",
    "import seaborn as sns\n",
    "sns.set()\n",
    "%config InlineBackend.figure_formats = {'png', 'retina'}\n",
    "\n",
    "seed=42"
   ]
  },
  {
   "cell_type": "markdown",
   "metadata": {},
   "source": [
    "### dataの読み込み"
   ]
  },
  {
   "cell_type": "code",
   "execution_count": null,
   "metadata": {},
   "outputs": [],
   "source": [
    "data=rcv1.fetch_rcv1()"
   ]
  },
  {
   "cell_type": "code",
   "execution_count": null,
   "metadata": {},
   "outputs": [],
   "source": [
    "# データセットがマルチクラス判別なので、シングルクラスにまとめる\n",
    "mask_col=np.array(list(map(lambda x:x.endswith('CAT'), data.target_names))) #カテゴリーに分けるのが良さそう\n",
    "target_names=data.target_names[mask_col]\n",
    "print('target names', target_names) #C→corporate inductrial, E→economics, G→goverment, M→わからない...Market?\n",
    "mask_row=data.target[:,mask_col].toarray().sum(axis=1) == 1 #マルチクラスが割り当てられているサンプルは削除\n",
    "\n",
    "y=data.target[mask_row][:,mask_col]\n",
    "X=data.data[mask_row]\n",
    "py=y.toarray().sum(axis=0).reshape(-1) #given labelの数\n",
    "print('samples',X.shape[0],'category value counts',py)\n",
    "y=np.array(y.argmax(axis=1)).reshape(-1) #one-hot to num"
   ]
  },
  {
   "cell_type": "markdown",
   "metadata": {},
   "source": [
    "評価に関して、本当はcross validationをするべきなのかもしれない。\n",
    "しかし今回は簡単のため1つのtestだけで評価する。"
   ]
  },
  {
   "cell_type": "code",
   "execution_count": null,
   "metadata": {},
   "outputs": [],
   "source": [
    "X_train, X_test, y_train, y_test = train_test_split(X, y, test_size=0.2, \n",
    "                                                    random_state=seed, shuffle=True)"
   ]
  },
  {
   "cell_type": "markdown",
   "metadata": {},
   "source": [
    "### clean labelで学習\n",
    "LogRegなのは比較的軽量っていう理由。非線形モデルとしてRandomForestsやExtraTreesも試したが、時間がかかる割にこのタスクにおける判別性能は微妙だった。"
   ]
  },
  {
   "cell_type": "markdown",
   "metadata": {},
   "source": [
    "%%time\n",
    "clf=LogisticRegression(solver='lbfgs',\n",
    "                       multi_class='multinomial',\n",
    "                       verbose=2,\n",
    "                       random_state=seed\n",
    "                      )\n",
    "\n",
    "clf.fit(X_train,y_train)\n",
    "print(clf.score(X_test, y_test)) #めっちゃあたる"
   ]
  },
  {
   "cell_type": "code",
   "execution_count": null,
   "metadata": {},
   "outputs": [],
   "source": [
    "%%time\n",
    "clf=LogisticRegression(multi_class='auto',\n",
    "                       verbose=2,\n",
    "                       random_state=seed\n",
    "                      )\n",
    "\n",
    "clf.fit(X_train,y_train)\n",
    "print(clf.score(X_test, y_test)) #悪くないけどノイズの影響受けてる。比較的頑健な線形モデルでもこう"
   ]
  },
  {
   "cell_type": "markdown",
   "metadata": {},
   "source": [
    "### noisy labelで学習"
   ]
  },
  {
   "cell_type": "code",
   "execution_count": null,
   "metadata": {},
   "outputs": [],
   "source": [
    "# p(given=i | true=j) の行列を生成\n",
    "noise_matrix=generate_noise_matrix_from_trace(4,3,\n",
    "                                             min_trace_prob=0.6,\n",
    "                                             frac_zero_noise_rates=0.5,\n",
    "                                             py=py,\n",
    "                                             seed=seed,\n",
    "                                            )\n",
    "print('p(given=i|true=j) =')\n",
    "print(noise_matrix)\n",
    "y_train_corrupted=generate_noisy_labels(y_train,noise_matrix)\n",
    "n=(y_train_corrupted!=y_train).sum()\n",
    "print('y_train_copputed contains', n ,'errors. error rate is', int(n/len(y_train) * 100),'%')"
   ]
  },
  {
   "cell_type": "markdown",
   "metadata": {},
   "source": [
    "%%time\n",
    "clf=LogisticRegression(solver='lbfgs',\n",
    "                       multi_class='multinomial',\n",
    "                       verbose=2,\n",
    "                       random_state=seed\n",
    "                      )\n",
    "\n",
    "clf.fit(X_train,y_train_corrupted)\n",
    "print(clf.score(X_test, y_test)) #悪くないけどノイズの影響受けてる。比較的頑健な線形モデルでもこう"
   ]
  },
  {
   "cell_type": "code",
   "execution_count": null,
   "metadata": {},
   "outputs": [],
   "source": [
    "%%time\n",
    "clf=LogisticRegression(multi_class='auto',\n",
    "                       verbose=2,\n",
    "                       random_state=seed\n",
    "                      )\n",
    "\n",
    "clf.fit(X_train,y_train_corrupted)\n",
    "print(clf.score(X_test, y_test)) #悪くないけどノイズの影響受けてる。比較的頑健な線形モデルでもこう"
   ]
  },
  {
   "cell_type": "markdown",
   "metadata": {},
   "source": [
    "### Confident Learningでnoisy labelを除外して学習"
   ]
  },
  {
   "cell_type": "markdown",
   "metadata": {},
   "source": [
    "%%time\n",
    "model=LogisticRegression(solver='lbfgs',\n",
    "                       multi_class='multinomial',\n",
    "                       verbose=2,\n",
    "                       random_state=seed)\n",
    "\n",
    "clf=LearningWithNoisyLabels(clf=model,\n",
    "                            seed=seed,\n",
    "                            n_jobs=cpu_count())\n",
    "                            \n",
    "clf.fit(X_train,y_train_corrupted)\n",
    "print(clf.score(X_test, y_test)) #悪くないけどノイズの影響受けてる"
   ]
  },
  {
   "cell_type": "code",
   "execution_count": null,
   "metadata": {},
   "outputs": [],
   "source": [
    "%%time\n",
    "model=LogisticRegression(multi_class='auto',\n",
    "                       verbose=2,\n",
    "                       random_state=seed)\n",
    "\n",
    "clf=LearningWithNoisyLabels(clf=model,\n",
    "                            seed=seed,\n",
    "                            n_jobs=cpu_count())\n",
    "                            \n",
    "clf.fit(X_train,y_train_corrupted)\n",
    "print(clf.score(X_test, y_test)) #悪くないけどノイズの影響受けてる"
   ]
  },
  {
   "cell_type": "markdown",
   "metadata": {},
   "source": [
    "### confident learningでどれぐらいのノイズが検出できているのか"
   ]
  },
  {
   "cell_type": "code",
   "execution_count": null,
   "metadata": {},
   "outputs": [],
   "source": []
  },
  {
   "cell_type": "code",
   "execution_count": null,
   "metadata": {},
   "outputs": [],
   "source": []
  }
 ],
 "metadata": {
  "kernelspec": {
   "display_name": "Python 3",
   "language": "python",
   "name": "python3"
  },
  "language_info": {
   "codemirror_mode": {
    "name": "ipython",
    "version": 3
   },
   "file_extension": ".py",
   "mimetype": "text/x-python",
   "name": "python",
   "nbconvert_exporter": "python",
   "pygments_lexer": "ipython3",
   "version": "3.6.8"
  }
 },
 "nbformat": 4,
 "nbformat_minor": 2
}
