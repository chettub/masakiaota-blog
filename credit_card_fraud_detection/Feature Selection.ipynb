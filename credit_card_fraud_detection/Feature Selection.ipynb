{
 "cells": [
  {
   "cell_type": "markdown",
   "metadata": {},
   "source": [
    "特徴抽出をしてみる。手始めにV1~V3まで可視化"
   ]
  },
  {
   "cell_type": "code",
   "execution_count": null,
   "metadata": {},
   "outputs": [],
   "source": [
    "##Visualization\n",
    "import plotly.offline as offline\n",
    "import plotly.graph_objs as go\n",
    "offline.init_notebook_mode()\n",
    "\n",
    "##import\n",
    "import pandas as pd\n",
    "import numpy as np\n",
    "from IPython.core.display import display\n",
    "from tqdm import tqdm_notebook as tqdm\n",
    "from copy import deepcopy as cp\n",
    "\n",
    "##visualization\n",
    "from ipywidgets import interact\n",
    "from bokeh.plotting import figure\n",
    "from bokeh.io import output_notebook, show, push_notebook\n",
    "from bokeh.models import ColumnDataSource, Range1d, LabelSet, Label\n",
    "from bokeh.palettes import Category10 as palette\n",
    "from bokeh.resources import INLINE\n",
    "output_notebook(resources=INLINE)\n",
    "import itertools\n",
    "\n",
    "##import sklearn\n",
    "from sklearn.model_selection import StratifiedKFold\n",
    "from sklearn.linear_model import LogisticRegression\n",
    "from sklearn.ensemble import RandomForestClassifier\n",
    "from sklearn.metrics import confusion_matrix, roc_curve, roc_auc_score, precision_recall_curve, average_precision_score, auc\n"
   ]
  },
  {
   "cell_type": "code",
   "execution_count": null,
   "metadata": {
    "collapsed": true,
    "scrolled": true
   },
   "outputs": [],
   "source": [
    "def showCurves(recalls, precisions, fprs, tprs):\n",
    "    ##make figure\n",
    "    s1 = figure(\n",
    "        title = \"PR曲線\", \n",
    "        plot_width=300, plot_height=300,\n",
    "        x_range=(-0.02,1.02), y_range=(0,1.02)\n",
    "    )\n",
    "\n",
    "    s2 = figure(\n",
    "        title = \"ROC曲線\", \n",
    "        plot_width=300, plot_height=300,\n",
    "        x_range=(-0.02,1.02), y_range=(0,1.02)\n",
    "    )\n",
    "\n",
    "    colors = palette[10]  \n",
    "\n",
    "    for i in tqdm(range(len(recalls))):\n",
    "\n",
    "        ##add line\n",
    "        s1.line(\n",
    "            recalls[i],\n",
    "            precisions[i],\n",
    "            line_width = 1,\n",
    "            color=colors[i]\n",
    "        )\n",
    "\n",
    "        ##add line\n",
    "        s2.line(\n",
    "            fprs[i],\n",
    "            tprs[i],\n",
    "            line_width = 1,\n",
    "            color=colors[i]\n",
    "        )\n",
    "\n",
    "\n",
    "    s1.xaxis.axis_label = 'Recall'\n",
    "    s1.yaxis.axis_label = 'Precision'\n",
    "\n",
    "    s2.xaxis.axis_label = 'FPR'\n",
    "    s2.yaxis.axis_label = 'TPR'\n",
    "\n",
    "    p = gridplot([[s1, s2]])\n",
    "\n",
    "    show(p)\n",
    "    \n",
    "def getMeans(recalls, precisions, fprs, tprs):\n",
    "    tprs_ = []\n",
    "    precisions_=[]\n",
    "    ##リスト型は関数内での操作であっても参照先が変更されてしまうので演算用につくった\n",
    "    mean_fpr = np.linspace(0, 1, 100)\n",
    "    mean_recall = np.linspace(0, 1, 100)\n",
    "    for i in range(len(recalls)):\n",
    "        tprs_.append( np.interp(mean_fpr, fprs[i], tprs[i]) )#tprの線形補間\n",
    "        precisions_.append( np.interp(mean_recall, recalls[i][::-1], precisions[i][::-1]))\n",
    "        ##recallが1から返されてるので逆順に行列をいれて上げないとバグる\n",
    "    mean_tpr = np.mean(tprs_, axis=0)\n",
    "    mean_precision = np.mean(precisions_, axis=0)\n",
    "    \n",
    "    return mean_recall, mean_precision, mean_fpr, mean_tpr\n",
    "\n",
    "def showMeanCurve(mean_recall, mean_precision, mean_fpr, mean_tpr):\n",
    "    ##make figure\n",
    "    s1 = figure(\n",
    "        title = \"PR曲線\", \n",
    "        plot_width=300, plot_height=300,\n",
    "        x_range=(-0.02,1.02), y_range=(0,1.02)\n",
    "    )\n",
    "\n",
    "    s2 = figure(\n",
    "        title = \"ROC曲線\", \n",
    "        plot_width=300, plot_height=300,\n",
    "        x_range=(-0.02,1.02), y_range=(0,1.02)\n",
    "    )\n",
    "\n",
    "    ##add line\n",
    "    s1.line(\n",
    "        mean_recall,\n",
    "        mean_precision,\n",
    "        line_width = 2\n",
    "    )\n",
    "\n",
    "    ##add patch\n",
    "    s1.patch(\n",
    "        np.hstack((mean_recall, 1, 0)),\n",
    "        np.hstack((mean_precision, 0, 0)),\n",
    "        alpha = 0.1,\n",
    "    )\n",
    "\n",
    "\n",
    "    ##add line\n",
    "    s2.line(\n",
    "        mean_fpr,\n",
    "        mean_tpr,\n",
    "        line_width = 2,\n",
    "\n",
    "    )\n",
    "\n",
    "    s2.patch(\n",
    "        np.hstack((mean_fpr, 1, 0)),\n",
    "        np.hstack((mean_tpr, 0, 0)),\n",
    "        alpha = 0.1,\n",
    "\n",
    "    )\n",
    "\n",
    "    s1.xaxis.axis_label = 'Recall'\n",
    "    s1.yaxis.axis_label = 'Precision'\n",
    "\n",
    "    s2.xaxis.axis_label = 'FPR'\n",
    "    s2.yaxis.axis_label = 'TPR'\n",
    "\n",
    "    p = gridplot([[s1, s2]])\n",
    "\n",
    "    show(p)\n",
    "    print('PR曲線のAUCスコア:',auc(mean_recall,mean_precision),'\\tROC曲線のAUCスコア:',auc(mean_fpr, mean_tpr))"
   ]
  },
  {
   "cell_type": "code",
   "execution_count": null,
   "metadata": {
    "collapsed": true
   },
   "outputs": [],
   "source": [
    "##acquire data\n",
    "df = pd.read_csv('./creditcard.csv')\n",
    "df0 = df[df.Class == 0]\n",
    "df1 = df[df.Class == 1]\n",
    "df1.head()"
   ]
  },
  {
   "cell_type": "code",
   "execution_count": null,
   "metadata": {
    "collapsed": true
   },
   "outputs": [],
   "source": [
    "##random under sampling\n",
    "df0u = df0.sample(frac = 0.05)\n",
    "print('Class 0:',len(df0u),', Class 1:',len(df1))"
   ]
  },
  {
   "cell_type": "code",
   "execution_count": null,
   "metadata": {
    "collapsed": true
   },
   "outputs": [],
   "source": [
    "## make trace\n",
    "trace0 = go.Scatter3d(\n",
    "    x = df0u.V1,\n",
    "    y = df0u.V2,\n",
    "    z = df0u.V3,\n",
    "    name = 'class0',\n",
    "    mode = 'markers',\n",
    "    opacity = 0.4,\n",
    "    marker = dict(\n",
    "        size = 2\n",
    "    )\n",
    ")\n",
    "trace1 = go.Scatter3d(\n",
    "    x = df1.V1,\n",
    "    y = df1.V2,\n",
    "    z = df1.V3,\n",
    "    name = 'class1',\n",
    "    mode = 'markers',\n",
    "    marker = dict(\n",
    "        size = 3\n",
    "    )\n",
    ")\n",
    "## concatnate traces\n",
    "data = [trace0, trace1]\n",
    "\n",
    "## define layout\n",
    "layout = go.Layout(\n",
    "    title='3D-PCA',\n",
    "    width=600,\n",
    "    height=500,\n",
    "    scene = dict(\n",
    "        xaxis = dict(\n",
    "            nticks=4, range = [min(df.V1),max(df.V1)], title='V1'),\n",
    "        yaxis = dict(\n",
    "            nticks=4, range = [min(df.V2),max(df.V2)], title='V2'),\n",
    "        zaxis = dict(\n",
    "            nticks=4, range = [min(df.V3),max(df.V3)], title='V3')\n",
    "    ),\n",
    "    showlegend=True)\n",
    "\n",
    "fig = dict(data=data, layout=layout)\n",
    "offline.iplot(fig)"
   ]
  },
  {
   "cell_type": "markdown",
   "metadata": {},
   "source": [
    "ちょっとグリグリ動かしただけでもわかるように正常(0)と異常(1)は結構よく分かれそう。\n",
    "とりあえず何も考えずに、判定機に突っ込んでみる。"
   ]
  },
  {
   "cell_type": "code",
   "execution_count": null,
   "metadata": {
    "collapsed": true
   },
   "outputs": [],
   "source": [
    "X = df.drop('Class', axis=1)\n",
    "y = df.Class"
   ]
  },
  {
   "cell_type": "code",
   "execution_count": null,
   "metadata": {},
   "outputs": [],
   "source": [
    "probs=[]\n",
    "pr_aucs=[]\n",
    "roc_aucs=[]\n",
    "fprs=[]\n",
    "tprs=[]\n",
    "precisions=[]\n",
    "recalls=[]\n",
    "\n",
    "## cross validation\n",
    "cv = StratifiedKFold(n_splits=10)\n",
    "\n",
    "lr = LogisticRegression()\n",
    "for train, test in tqdm(cv.split(X,y)): \n",
    "    ##インデックス番号の分割をしている。\n",
    "    ##ロジスティック回帰\n",
    "    prob = lr.fit(X.iloc[train], y.iloc[train]).predict_proba(X.iloc[test])\n",
    "    probs.append(prob)\n",
    "    ##ROC曲線\n",
    "    fpr, tpr, thresholds = roc_curve(y[test], prob[:, 1], pos_label=1)\n",
    "    fprs.append(fpr)\n",
    "    tprs.append(tpr)\n",
    "    roc_aucs.append(auc(fpr, tpr))\n",
    "    \n",
    "    ##PR曲線\n",
    "    precision, recall, thresholds = precision_recall_curve(y[test], prob[:, 1], pos_label=1)\n",
    "    precisions.append(precision)\n",
    "    recalls.append(recall)\n",
    "    pr_aucs.append(auc(recall, precision))\n"
   ]
  },
  {
   "cell_type": "code",
   "execution_count": null,
   "metadata": {},
   "outputs": [],
   "source": [
    "showCurves(recalls, precisions, fprs, tprs)"
   ]
  },
  {
   "cell_type": "code",
   "execution_count": null,
   "metadata": {},
   "outputs": [],
   "source": [
    "mean_recall, mean_precision, mean_fpr, mean_tpr = getMeans(recalls, precisions, fprs, tprs)\n",
    "showMeanCurve(mean_recall, mean_precision, mean_fpr, mean_tpr)"
   ]
  },
  {
   "cell_type": "code",
   "execution_count": null,
   "metadata": {},
   "outputs": [],
   "source": [
    "np.mean(pr_aucs)"
   ]
  },
  {
   "cell_type": "code",
   "execution_count": null,
   "metadata": {
    "collapsed": true
   },
   "outputs": [],
   "source": [
    "np.mean(roc_aucs)"
   ]
  },
  {
   "cell_type": "markdown",
   "metadata": {},
   "source": [
    "横軸揃えて各y軸の平均を取ったAUCとただ単に各foldで得られたAUCの平均値異なるので注意"
   ]
  },
  {
   "cell_type": "markdown",
   "metadata": {},
   "source": [
    "## RF"
   ]
  },
  {
   "cell_type": "code",
   "execution_count": null,
   "metadata": {
    "collapsed": true
   },
   "outputs": [],
   "source": [
    "probs=[]\n",
    "pr_aucs=[]\n",
    "roc_aucs=[]\n",
    "fprs=[]\n",
    "tprs=[]\n",
    "precisions=[]\n",
    "recalls=[]\n",
    "\n",
    "\n",
    "random_forest = RandomForestClassifier(n_estimators=10) ##n is decided roughly.\n",
    "\n",
    "for train, test in tqdm(cv.split(X,y)): \n",
    "    ##インデックス番号の分割をしている。\n",
    "    ##Random Forest\n",
    "    prob = random_forest.fit(X.iloc[train], y.iloc[train]).predict_proba(X.iloc[test])\n",
    "    \n",
    "    probs.append(prob)\n",
    "    ##ROC曲線\n",
    "    fpr, tpr, thresholds = roc_curve(y[test], prob[:, 1], pos_label=1)\n",
    "    fprs.append(fpr)\n",
    "    tprs.append(tpr)\n",
    "    roc_aucs.append(auc(fpr, tpr))\n",
    "    \n",
    "    ##PR曲線\n",
    "    precision, recall, thresholds = precision_recall_curve(y[test], prob[:, 1], pos_label=1)\n",
    "    precisions.append(precision)\n",
    "    recalls.append(recall)\n",
    "    pr_aucs.append(auc(recall, precision))\n",
    "\n",
    "\n",
    "    "
   ]
  },
  {
   "cell_type": "code",
   "execution_count": null,
   "metadata": {
    "collapsed": true
   },
   "outputs": [],
   "source": [
    "showCurves(recalls, precisions, fprs, tprs)"
   ]
  },
  {
   "cell_type": "code",
   "execution_count": null,
   "metadata": {
    "collapsed": true
   },
   "outputs": [],
   "source": [
    "mean_recall, mean_precision, mean_fpr, mean_tpr = getMeans(recalls, precisions, fprs, tprs)\n",
    "showMeanCurve(mean_recall, mean_precision, mean_fpr, mean_tpr)"
   ]
  },
  {
   "cell_type": "markdown",
   "metadata": {},
   "source": [
    "Classに対して有意に異なる特徴だけを用いることにする。"
   ]
  },
  {
   "cell_type": "code",
   "execution_count": null,
   "metadata": {
    "collapsed": true
   },
   "outputs": [],
   "source": [
    "## statistical visualization\n",
    "from string import ascii_letters\n",
    "import seaborn as sns\n",
    "import matplotlib.pyplot as plt\n",
    "%matplotlib inline"
   ]
  },
  {
   "cell_type": "code",
   "execution_count": null,
   "metadata": {},
   "outputs": [],
   "source": [
    "for i in tqdm(range(len(df.columns)-1)):\n",
    "    g = sns.distplot(df0.iloc[:,i], color='green')\n",
    "    g = sns.distplot(df1.iloc[:,i], color='red') \n",
    "    plt.show()"
   ]
  },
  {
   "cell_type": "markdown",
   "metadata": {},
   "source": [
    "上の確率分布から、使う変数を選択する。\n",
    "ロジスティック回帰には線形分離でうまく両分布が分かれそうな特徴を選ぶ。例えば今回ならば、V3, V4, V10, V11, V12, V14, V16を使う。\n",
    "ランダムフォレストは非線形にClassを判別できるため、上記の特徴に加えて、分布の形が異なる特徴を加えることにする。V3, V4, V10, V11, V12, V14, V16に加えて(Time), V17, V18を説明変数とする。"
   ]
  },
  {
   "cell_type": "code",
   "execution_count": null,
   "metadata": {},
   "outputs": [],
   "source": [
    "X_LR = X[['V3','V4','V10','V11','V12','V14','V16']]\n",
    "probs=[]\n",
    "pr_aucs=[]\n",
    "roc_aucs=[]\n",
    "fprs=[]\n",
    "tprs=[]\n",
    "precisions=[]\n",
    "recalls=[]\n",
    "\n",
    "## cross validation\n",
    "cv = StratifiedKFold(n_splits=10)\n",
    "\n",
    "lr = LogisticRegression()\n",
    "for train, test in tqdm(cv.split(X_LR,y)): \n",
    "    ##インデックス番号の分割をしている。\n",
    "    ##ロジスティック回帰\n",
    "    prob = lr.fit(X_LR.iloc[train], y.iloc[train]).predict_proba(X_LR.iloc[test])\n",
    "    probs.append(prob)\n",
    "    ##ROC曲線\n",
    "    fpr, tpr, thresholds = roc_curve(y[test], prob[:, 1], pos_label=1)\n",
    "    fprs.append(fpr)\n",
    "    tprs.append(tpr)\n",
    "    roc_aucs.append(auc(fpr, tpr))\n",
    "    \n",
    "    ##PR曲線\n",
    "    precision, recall, thresholds = precision_recall_curve(y[test], prob[:, 1], pos_label=1)\n",
    "    precisions.append(precision)\n",
    "    recalls.append(recall)\n",
    "    pr_aucs.append(auc(recall, precision))"
   ]
  },
  {
   "cell_type": "code",
   "execution_count": null,
   "metadata": {
    "collapsed": true
   },
   "outputs": [],
   "source": [
    "showCurves(recalls, precisions, fprs, tprs)"
   ]
  },
  {
   "cell_type": "code",
   "execution_count": null,
   "metadata": {
    "collapsed": true
   },
   "outputs": [],
   "source": [
    "mean_recall, mean_precision, mean_fpr, mean_tpr = getMeans(recalls, precisions, fprs, tprs)\n",
    "showMeanCurve(mean_recall, mean_precision, mean_fpr, mean_tpr)"
   ]
  },
  {
   "cell_type": "code",
   "execution_count": null,
   "metadata": {
    "scrolled": true
   },
   "outputs": [],
   "source": [
    "X_RF = X[['V3','V4','V10','V11','V12','V14','V16','V17','V18']]\n",
    "probs=[]\n",
    "pr_aucs=[]\n",
    "roc_aucs=[]\n",
    "fprs=[]\n",
    "tprs=[]\n",
    "precisions=[]\n",
    "recalls=[]\n",
    "\n",
    "\n",
    "random_forest = RandomForestClassifier(n_estimators=10) ##n is decided roughly.\n",
    "\n",
    "for train, test in tqdm(cv.split(X_RF,y)): \n",
    "    ##インデックス番号の分割をしている。\n",
    "    ##Random Forest\n",
    "    prob = random_forest.fit(X_RF.iloc[train], y.iloc[train]).predict_proba(X_RF.iloc[test])\n",
    "    \n",
    "    probs.append(prob)\n",
    "    ##ROC曲線\n",
    "    fpr, tpr, thresholds = roc_curve(y[test], prob[:, 1], pos_label=1)\n",
    "    fprs.append(fpr)\n",
    "    tprs.append(tpr)\n",
    "    roc_aucs.append(auc(fpr, tpr))\n",
    "    \n",
    "    ##PR曲線\n",
    "    precision, recall, thresholds = precision_recall_curve(y[test], prob[:, 1], pos_label=1)\n",
    "    precisions.append(precision)\n",
    "    recalls.append(recall)\n",
    "    pr_aucs.append(auc(recall, precision))\n",
    "\n",
    "\n",
    "    "
   ]
  },
  {
   "cell_type": "code",
   "execution_count": null,
   "metadata": {
    "collapsed": true
   },
   "outputs": [],
   "source": [
    "showCurves(recalls, precisions, fprs, tprs)"
   ]
  },
  {
   "cell_type": "code",
   "execution_count": null,
   "metadata": {
    "collapsed": true
   },
   "outputs": [],
   "source": [
    "mean_recall, mean_precision, mean_fpr, mean_tpr = getMeans(recalls, precisions, fprs, tprs)\n",
    "showMeanCurve(mean_recall, mean_precision, mean_fpr, mean_tpr)"
   ]
  },
  {
   "cell_type": "markdown",
   "metadata": {},
   "source": [
    "RFの方がLRよりスコアが悪いのは、インバランスのためクラス境界において圧倒的に多い0に埋もれてしまうため。RFだとインバランスが弱点になりがちである。"
   ]
  },
  {
   "cell_type": "code",
   "execution_count": null,
   "metadata": {
    "collapsed": true
   },
   "outputs": [],
   "source": []
  },
  {
   "cell_type": "code",
   "execution_count": null,
   "metadata": {
    "collapsed": true
   },
   "outputs": [],
   "source": []
  },
  {
   "cell_type": "markdown",
   "metadata": {},
   "source": [
    "todo\n",
    "* 10-fold CV\n",
    "* LR, RF in raw data\n",
    "* PR, ROC\n",
    "* select feature by filter method\n",
    "* LR, RF in filtered feature\n",
    "* evaluation\n",
    "* select feature by wrapper method\n",
    "* LR, RF in selected feature\n",
    "* evaluation\n",
    "* SMOTE and select feature by wrapper method\n",
    "* LR, RF in selected feature\n",
    "* evaluation"
   ]
  }
 ],
 "metadata": {
  "kernelspec": {
   "display_name": "Python 3",
   "language": "python",
   "name": "python3"
  },
  "language_info": {
   "codemirror_mode": {
    "name": "ipython",
    "version": 3
   },
   "file_extension": ".py",
   "mimetype": "text/x-python",
   "name": "python",
   "nbconvert_exporter": "python",
   "pygments_lexer": "ipython3",
   "version": "3.6.2"
  },
  "varInspector": {
   "cols": {
    "lenName": 16,
    "lenType": 16,
    "lenVar": 40
   },
   "kernels_config": {
    "python": {
     "delete_cmd_postfix": "",
     "delete_cmd_prefix": "del ",
     "library": "var_list.py",
     "varRefreshCmd": "print(var_dic_list())"
    },
    "r": {
     "delete_cmd_postfix": ") ",
     "delete_cmd_prefix": "rm(",
     "library": "var_list.r",
     "varRefreshCmd": "cat(var_dic_list()) "
    }
   },
   "types_to_exclude": [
    "module",
    "function",
    "builtin_function_or_method",
    "instance",
    "_Feature"
   ],
   "window_display": false
  }
 },
 "nbformat": 4,
 "nbformat_minor": 2
}
