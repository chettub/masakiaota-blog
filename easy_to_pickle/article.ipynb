{
 "cells": [
  {
   "cell_type": "markdown",
   "metadata": {},
   "source": [
    "## 簡単にpythonオブジェクトを保存する方法"
   ]
  },
  {
   "cell_type": "markdown",
   "metadata": {},
   "source": [
    "### この記事で言いたいこと\n",
    "import pickleしてwith openをいちいち書くのめんどくさくない？。pandas.to_pickleやpandas.read_pickleを使えば楽。DataFrame以外のものも保存できる。\n",
    "\n",
    "### はじめに\n",
    "pythonは辞書やリスト、もしくはクラスから生成したインスタンス等を保存する機能を提供している。\n",
    "\n",
    "https://docs.python.org/ja/3/library/pickle.html\n",
    "\n",
    "現在（2018/11/23）、googleで検索するとたくさんの記事が出てくる。しかしどれもpickleのドキュメントに準拠したものになっていて、pickleをimportし、with openでpickleに書き出したり、読み込んだりしている。\n",
    "\n",
    "<img src=\"gsearch.png\">\n",
    "\n",
    "たかが2,3行かもしれないがこれを何回も書くのは意外とめんどくさい。pandasを使えばもっと楽に任意のpythonオブジェクトを保存したり読み出したりできる。以下コードを交えて、紹介する。"
   ]
  },
  {
   "cell_type": "markdown",
   "metadata": {},
   "source": [
    "pandasというと、DataFrameを扱うイメージが強い。\n",
    "しかし、to_pickleのdocstringを見てみると、ちゃんと任意のpythonオブジェクトを引数にできると書いてある。\n",
    "\n",
    "```\n",
    "Signature: pd.to_pickle(obj, path, compression='infer', protocol=4)\n",
    "Docstring:\n",
    "Pickle (serialize) object to file.\n",
    "\n",
    "Parameters\n",
    "----------\n",
    "obj : any object\n",
    "    Any python object.\n",
    "path : str\n",
    "    File path where the pickled object will be stored.\n",
    "以下略\n",
    "```"
   ]
  },
  {
   "cell_type": "markdown",
   "metadata": {},
   "source": [
    "### データの用意\n",
    "適当に階差が4の数列を作り、これを保存するpythonオブジェクトとする。"
   ]
  },
  {
   "cell_type": "code",
   "execution_count": 1,
   "metadata": {},
   "outputs": [
    {
     "data": {
      "text/plain": [
       "[0, 4, 8, 12, 16, 20, 24, 28, 32, 36, 40, 44, 48]"
      ]
     },
     "execution_count": 1,
     "metadata": {},
     "output_type": "execute_result"
    }
   ],
   "source": [
    "arr = [a for a in range(0,50,4)]\n",
    "arr"
   ]
  },
  {
   "cell_type": "markdown",
   "metadata": {},
   "source": [
    "### pickleをimportしてwith openで書き込んだり読み込んだりするやり方\n",
    "よくやられるやり方で、保存し読み出して見ます"
   ]
  },
  {
   "cell_type": "code",
   "execution_count": 2,
   "metadata": {},
   "outputs": [],
   "source": [
    "import pickle\n",
    "with open(\"arr.pkl\", \"wb\") as f:\n",
    "    pickle.dump(arr, f) #保存"
   ]
  },
  {
   "cell_type": "code",
   "execution_count": 3,
   "metadata": {},
   "outputs": [
    {
     "data": {
      "text/plain": [
       "[0, 4, 8, 12, 16, 20, 24, 28, 32, 36, 40, 44, 48]"
      ]
     },
     "execution_count": 3,
     "metadata": {},
     "output_type": "execute_result"
    }
   ],
   "source": [
    "with open(\"arr.pkl\", \"rb\") as f:\n",
    "    hoge = pickle.load(f) #読み出し\n",
    "hoge"
   ]
  },
  {
   "cell_type": "code",
   "execution_count": 4,
   "metadata": {},
   "outputs": [],
   "source": [
    "del hoge"
   ]
  },
  {
   "cell_type": "code",
   "execution_count": 5,
   "metadata": {},
   "outputs": [],
   "source": [
    "! rm arr.pkl"
   ]
  },
  {
   "cell_type": "markdown",
   "metadata": {},
   "source": [
    "### pandasを使ったやりかた"
   ]
  },
  {
   "cell_type": "code",
   "execution_count": 6,
   "metadata": {},
   "outputs": [],
   "source": [
    "import pandas as pd\n",
    "pd.to_pickle(arr, \"arr.pkl\")#保存"
   ]
  },
  {
   "cell_type": "code",
   "execution_count": 7,
   "metadata": {},
   "outputs": [
    {
     "data": {
      "text/plain": [
       "[0, 4, 8, 12, 16, 20, 24, 28, 32, 36, 40, 44, 48]"
      ]
     },
     "execution_count": 7,
     "metadata": {},
     "output_type": "execute_result"
    }
   ],
   "source": [
    "hoge = pd.read_pickle(\"arr.pkl\") #読み出し\n",
    "hoge"
   ]
  },
  {
   "cell_type": "markdown",
   "metadata": {},
   "source": [
    "こちらの方が、1行で保存も読み出しもできる。そのうえ入力する単語数も少ないので、とにかく楽なのである。pickleをimportする必要すらない。"
   ]
  },
  {
   "cell_type": "markdown",
   "metadata": {},
   "source": [
    "### まとめ\n",
    "- pythonオプジェクトを保存するときはpandasを使うと楽\n",
    "- pandas.to_pickleで保存、pandas.read_pickleで読み出し"
   ]
  },
  {
   "cell_type": "code",
   "execution_count": null,
   "metadata": {},
   "outputs": [],
   "source": []
  }
 ],
 "metadata": {
  "kernelspec": {
   "display_name": "Python 3",
   "language": "python",
   "name": "python3"
  },
  "language_info": {
   "codemirror_mode": {
    "name": "ipython",
    "version": 3
   },
   "file_extension": ".py",
   "mimetype": "text/x-python",
   "name": "python",
   "nbconvert_exporter": "python",
   "pygments_lexer": "ipython3",
   "version": "3.6.2"
  }
 },
 "nbformat": 4,
 "nbformat_minor": 2
}
